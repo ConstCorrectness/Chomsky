{
 "cells": [
  {
   "cell_type": "markdown",
   "id": "a5b4ddc6",
   "metadata": {},
   "source": [
    "# Saliency: the weighting of words"
   ]
  },
  {
   "cell_type": "markdown",
   "id": "40b2b6e3",
   "metadata": {},
   "source": [
    "> \"Assigning some magnitude to words in various contexts.\"\n",
    "\n",
    "- me\n",
    "\n"
   ]
  },
  {
   "cell_type": "code",
   "execution_count": null,
   "id": "aeba10dc",
   "metadata": {
    "vscode": {
     "languageId": "plaintext"
    }
   },
   "outputs": [],
   "source": []
  }
 ],
 "metadata": {
  "kernelspec": {
   "display_name": "venv",
   "language": "python",
   "name": "python3"
  },
  "language_info": {
   "codemirror_mode": {
    "name": "ipython",
    "version": 3
   },
   "file_extension": ".py",
   "mimetype": "text/x-python",
   "name": "python",
   "nbconvert_exporter": "python",
   "pygments_lexer": "ipython3",
   "version": "3.13.5"
  }
 },
 "nbformat": 4,
 "nbformat_minor": 5
}
