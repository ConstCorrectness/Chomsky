{
 "cells": [
  {
   "cell_type": "markdown",
   "id": "468ca50a",
   "metadata": {},
   "source": [
    "# Stemming[:-2]"
   ]
  },
  {
   "cell_type": "markdown",
   "id": "fb0352d4",
   "metadata": {},
   "source": [
    "> \"STEMing IS HIGHLIGHTing THE IMPORTANT PARTs OF A WORD\"\n",
    "\n",
    "- me."
   ]
  },
  {
   "cell_type": "code",
   "execution_count": 2,
   "id": "bc0e914a",
   "metadata": {},
   "outputs": [],
   "source": [
    "# Full real-world implementation to stem any given word\n",
    "def stem(words):\n",
    "  return [w[:-2] for w in words]\n",
    "\n"
   ]
  },
  {
   "cell_type": "code",
   "execution_count": null,
   "id": "eec90e9f",
   "metadata": {},
   "outputs": [],
   "source": []
  }
 ],
 "metadata": {
  "kernelspec": {
   "display_name": "venv",
   "language": "python",
   "name": "python3"
  },
  "language_info": {
   "codemirror_mode": {
    "name": "ipython",
    "version": 3
   },
   "file_extension": ".py",
   "mimetype": "text/x-python",
   "name": "python",
   "nbconvert_exporter": "python",
   "pygments_lexer": "ipython3",
   "version": "3.13.5"
  }
 },
 "nbformat": 4,
 "nbformat_minor": 5
}
