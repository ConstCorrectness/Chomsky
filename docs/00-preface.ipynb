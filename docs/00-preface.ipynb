{
 "cells": [
  {
   "cell_type": "markdown",
   "id": "07d6e48b",
   "metadata": {},
   "source": [
    "# Ltemming Semmas\n",
    "\n",
    "\n",
    "<p align=\"center\">\n",
    "  <img src=\"images/chomsky.jpg\" height=\"300px\" width=\"300px\" alt=\"handsome man!\">\n",
    "</p>"
   ]
  },
  {
   "cell_type": "code",
   "execution_count": null,
   "id": "946710e9",
   "metadata": {},
   "outputs": [],
   "source": [
    "import plotly.express as px\n",
    "data = px.data.iris()\n",
    "data.head()"
   ]
  },
  {
   "cell_type": "markdown",
   "id": "9f7c0755",
   "metadata": {},
   "source": []
  }
 ],
 "metadata": {
  "language_info": {
   "name": "python"
  }
 },
 "nbformat": 4,
 "nbformat_minor": 5
}
