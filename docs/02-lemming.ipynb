{
 "cells": [
  {
   "cell_type": "markdown",
   "id": "e3ef9b94",
   "metadata": {},
   "source": [
    "# Lemmatization -> Lemma\n",
    "\n",
    "> \"Lemmatization reduces words to their dictionary base form (lemma), but is considerate of where that word is contextually.\"\n",
    "\n",
    "- me"
   ]
  },
  {
   "cell_type": "markdown",
   "id": "45e85f2c",
   "metadata": {},
   "source": [
    "## Resources:\n",
    "---------------\n",
    "- [word2vec](https://code.google.com/archive/p/word2vec/): Implementation of vector embedding of words to vector representations\n",
    "- [MCTest Repo](https://github.com/mcobzarenco/mctest/tree/master/data/MCTest): Conversation Bot 'IQ Test'"
   ]
  },
  {
   "cell_type": "code",
   "execution_count": null,
   "id": "52d0ba07",
   "metadata": {},
   "outputs": [],
   "source": []
  }
 ],
 "metadata": {
  "kernelspec": {
   "display_name": "venv",
   "language": "python",
   "name": "python3"
  },
  "language_info": {
   "codemirror_mode": {
    "name": "ipython",
    "version": 3
   },
   "file_extension": ".py",
   "mimetype": "text/x-python",
   "name": "python",
   "nbconvert_exporter": "python",
   "pygments_lexer": "ipython3",
   "version": "3.13.5"
  }
 },
 "nbformat": 4,
 "nbformat_minor": 5
}
