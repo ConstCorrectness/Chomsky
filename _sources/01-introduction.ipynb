{
 "cells": [
  {
   "cell_type": "markdown",
   "id": "468ca50a",
   "metadata": {},
   "source": [
    "# Introduction to Chomsky"
   ]
  },
  {
   "cell_type": "markdown",
   "id": "240f6aa4",
   "metadata": {},
   "source": []
  }
 ],
 "metadata": {
  "language_info": {
   "name": "python"
  }
 },
 "nbformat": 4,
 "nbformat_minor": 5
}
